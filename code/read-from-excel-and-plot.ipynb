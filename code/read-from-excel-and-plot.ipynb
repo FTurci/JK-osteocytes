{
 "cells": [
  {
   "cell_type": "markdown",
   "id": "f2bff2a9",
   "metadata": {},
   "source": [
    "# Reading from Excel files\n",
    "\n",
    "To read form Excel files in Python we use a specialised library called `pandas`. "
   ]
  },
  {
   "cell_type": "code",
   "execution_count": 1,
   "id": "a687ffa9",
   "metadata": {},
   "outputs": [],
   "source": [
    "import pandas as pd"
   ]
  },
  {
   "cell_type": "markdown",
   "id": "eee8f6bc",
   "metadata": {},
   "source": []
  }
 ],
 "metadata": {
  "kernelspec": {
   "display_name": "3.11.1",
   "language": "python",
   "name": "python3"
  },
  "language_info": {
   "codemirror_mode": {
    "name": "ipython",
    "version": 3
   },
   "file_extension": ".py",
   "mimetype": "text/x-python",
   "name": "python",
   "nbconvert_exporter": "python",
   "pygments_lexer": "ipython3",
   "version": "3.11.1"
  }
 },
 "nbformat": 4,
 "nbformat_minor": 5
}
