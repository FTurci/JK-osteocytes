{
 "cells": [
  {
   "cell_type": "markdown",
   "id": "f2bff2a9",
   "metadata": {},
   "source": [
    "# Reading from Excel files\n",
    "\n",
    "To read form Excel files in Python we use a specialised library called `pandas`. "
   ]
  },
  {
   "cell_type": "code",
   "execution_count": 1,
   "id": "a687ffa9",
   "metadata": {},
   "outputs": [],
   "source": [
    "import pandas as pd"
   ]
  },
  {
   "cell_type": "code",
   "execution_count": 13,
   "id": "17b42acc",
   "metadata": {},
   "outputs": [
    {
     "data": {
      "text/html": [
       "<div>\n",
       "<style scoped>\n",
       "    .dataframe tbody tr th:only-of-type {\n",
       "        vertical-align: middle;\n",
       "    }\n",
       "\n",
       "    .dataframe tbody tr th {\n",
       "        vertical-align: top;\n",
       "    }\n",
       "\n",
       "    .dataframe thead th {\n",
       "        text-align: right;\n",
       "    }\n",
       "</style>\n",
       "<table border=\"1\" class=\"dataframe\">\n",
       "  <thead>\n",
       "    <tr style=\"text-align: right;\">\n",
       "      <th></th>\n",
       "      <th>time</th>\n",
       "      <th>measurement</th>\n",
       "    </tr>\n",
       "  </thead>\n",
       "  <tbody>\n",
       "    <tr>\n",
       "      <th>0</th>\n",
       "      <td>0.1</td>\n",
       "      <td>3.0</td>\n",
       "    </tr>\n",
       "    <tr>\n",
       "      <th>1</th>\n",
       "      <td>0.2</td>\n",
       "      <td>4.0</td>\n",
       "    </tr>\n",
       "    <tr>\n",
       "      <th>2</th>\n",
       "      <td>0.3</td>\n",
       "      <td>5.0</td>\n",
       "    </tr>\n",
       "    <tr>\n",
       "      <th>3</th>\n",
       "      <td>0.4</td>\n",
       "      <td>6.0</td>\n",
       "    </tr>\n",
       "    <tr>\n",
       "      <th>4</th>\n",
       "      <td>0.5</td>\n",
       "      <td>7.0</td>\n",
       "    </tr>\n",
       "    <tr>\n",
       "      <th>5</th>\n",
       "      <td>0.6</td>\n",
       "      <td>8.0</td>\n",
       "    </tr>\n",
       "    <tr>\n",
       "      <th>6</th>\n",
       "      <td>0.7</td>\n",
       "      <td>9.0</td>\n",
       "    </tr>\n",
       "    <tr>\n",
       "      <th>7</th>\n",
       "      <td>0.8</td>\n",
       "      <td>4.0</td>\n",
       "    </tr>\n",
       "    <tr>\n",
       "      <th>8</th>\n",
       "      <td>0.9</td>\n",
       "      <td>8.0</td>\n",
       "    </tr>\n",
       "    <tr>\n",
       "      <th>9</th>\n",
       "      <td>1.0</td>\n",
       "      <td>8.5</td>\n",
       "    </tr>\n",
       "    <tr>\n",
       "      <th>10</th>\n",
       "      <td>1.1</td>\n",
       "      <td>9.0</td>\n",
       "    </tr>\n",
       "    <tr>\n",
       "      <th>11</th>\n",
       "      <td>1.2</td>\n",
       "      <td>9.5</td>\n",
       "    </tr>\n",
       "  </tbody>\n",
       "</table>\n",
       "</div>"
      ],
      "text/plain": [
       "    time  measurement\n",
       "0    0.1          3.0\n",
       "1    0.2          4.0\n",
       "2    0.3          5.0\n",
       "3    0.4          6.0\n",
       "4    0.5          7.0\n",
       "5    0.6          8.0\n",
       "6    0.7          9.0\n",
       "7    0.8          4.0\n",
       "8    0.9          8.0\n",
       "9    1.0          8.5\n",
       "10   1.1          9.0\n",
       "11   1.2          9.5"
      ]
     },
     "execution_count": 13,
     "metadata": {},
     "output_type": "execute_result"
    }
   ],
   "source": [
    "# read in a DataFrane from an Excel file\n",
    "df = pd.read_excel(\"../data/dummy-data.xlsx\",usecols=[\"time\", \"measurement\"])\n",
    "\n",
    "df"
   ]
  },
  {
   "cell_type": "code",
   "execution_count": 16,
   "id": "9fff92a5",
   "metadata": {},
   "outputs": [
    {
     "data": {
      "text/plain": [
       "<Axes: title={'center': 'Measurement over time'}, xlabel='time'>"
      ]
     },
     "execution_count": 16,
     "metadata": {},
     "output_type": "execute_result"
    },
    {
     "data": {
      "image/png": "[encoded data removed]",
      "text/plain": [
       "<Figure size 640x480 with 1 Axes>"
      ]
     },
     "metadata": {},
     "output_type": "display_data"
    }
   ],
   "source": [
    "df.plot(x=\"time\", y=\"measurement\", kind=\"bar\", title=\"Measurement over time\")"
   ]
  },
  {
   "cell_type": "markdown",
   "id": "9ef6fef8",
   "metadata": {},
   "source": [
    "Suppose we wanted some statistics, we can do it immediately"
   ]
  },
  {
   "cell_type": "code",
   "execution_count": 17,
   "id": "5c96c2e6",
   "metadata": {},
   "outputs": [
    {
     "data": {
      "text/plain": [
       "7.5"
      ]
     },
     "execution_count": 17,
     "metadata": {},
     "output_type": "execute_result"
    }
   ],
   "source": [
    "df['measurement'].median()"
   ]
  },
  {
   "cell_type": "code",
   "execution_count": 21,
   "id": "6ec45eb8",
   "metadata": {},
   "outputs": [
    {
     "data": {
      "text/plain": [
       "6.75"
      ]
     },
     "execution_count": 21,
     "metadata": {},
     "output_type": "execute_result"
    }
   ],
   "source": [
    "df['measurement'].mean()"
   ]
  },
  {
   "cell_type": "markdown",
   "id": "eee8f6bc",
   "metadata": {},
   "source": []
  },
  {
   "cell_type": "code",
   "execution_count": null,
   "id": "2d1bbf7c",
   "metadata": {},
   "outputs": [
    {
     "data": {
      "text/plain": [
       "0     3.0\n",
       "1     4.0\n",
       "2     5.0\n",
       "3     6.0\n",
       "4     7.0\n",
       "5     8.0\n",
       "6     9.0\n",
       "7     4.0\n",
       "8     8.0\n",
       "9     8.5\n",
       "10    9.0\n",
       "11    9.5\n",
       "Name: measurement, dtype: float64"
      ]
     },
     "execution_count": 25,
     "metadata": {},
     "output_type": "execute_result"
    }
   ],
   "source": [
    "df[\"measurement\"].describe()"
   ]
  },
  {
   "cell_type": "markdown",
   "id": "6e09ba10",
   "metadata": {},
   "source": [
    "## On brackets\n",
    "\n",
    "- Square brackets `[]` are used to access elements in lists, dictionaries, and DataFrames.\n",
    "- Parentheses `()` are used to call functions and methods."
   ]
  },
  {
   "cell_type": "code",
   "execution_count": 23,
   "id": "39245f6f",
   "metadata": {},
   "outputs": [],
   "source": [
    "mydict= {\"time\": [0,1,2,3,4,5],\n",
    "         \"measurement\": [10,12,9,11,13,12] }"
   ]
  },
  {
   "cell_type": "code",
   "execution_count": 24,
   "id": "23ce5d78",
   "metadata": {},
   "outputs": [
    {
     "data": {
      "text/plain": [
       "[10, 12, 9, 11, 13, 12]"
      ]
     },
     "execution_count": 24,
     "metadata": {},
     "output_type": "execute_result"
    }
   ],
   "source": [
    "mydict[\"measurement\"]"
   ]
  },
  {
   "cell_type": "code",
   "execution_count": 27,
   "id": "3bc0377a",
   "metadata": {},
   "outputs": [
    {
     "data": {
      "text/plain": [
       "10"
      ]
     },
     "execution_count": 27,
     "metadata": {},
     "output_type": "execute_result"
    }
   ],
   "source": [
    "def myfunc(x):\n",
    "    return x*2\n",
    "\n",
    "myfunc(5)"
   ]
  }
 ],
 "metadata": {
  "kernelspec": {
   "display_name": "3.11.1",
   "language": "python",
   "name": "python3"
  },
  "language_info": {
   "codemirror_mode": {
    "name": "ipython",
    "version": 3
   },
   "file_extension": ".py",
   "mimetype": "text/x-python",
   "name": "python",
   "nbconvert_exporter": "python",
   "pygments_lexer": "ipython3",
   "version": "3.11.1"
  }
 },
 "nbformat": 4,
 "nbformat_minor": 5
}
